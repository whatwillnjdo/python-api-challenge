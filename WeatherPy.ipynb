{
 "cells": [
  {
   "cell_type": "markdown",
   "metadata": {},
   "source": [
    "# WeatherPy\n",
    "----\n",
    "\n",
    "#### Note\n",
    "* Instructions have been included for each segment. You do not have to follow them exactly, but they are included to help you think through the steps."
   ]
  },
  {
   "cell_type": "markdown",
   "metadata": {},
   "source": [
    "#### Observations\n",
    "* In the northern hemisphere as the latitude increases from 0 to 90 the colder the max Temperature becomes\n",
    "* In the southern hemisphere as the latitude decreases from 0 to -90 the colder the max Temperature becomes\n",
    "* There is no correlation between the wind speed and the temperature for both northern and southern hemispheres"
   ]
  },
  {
   "cell_type": "code",
   "execution_count": 12,
   "metadata": {
    "scrolled": true
   },
   "outputs": [],
   "source": [
    "# Dependencies and Setup\n",
    "import matplotlib.pyplot as plt\n",
    "import pandas as pd\n",
    "import numpy as np\n",
    "import requests\n",
    "import json\n",
    "import time\n",
    "import scipy.stats as st\n",
    "from datetime import date\n",
    "\n",
    "# Import API key\n",
    "from config import openweather_key\n",
    "\n",
    "# Incorporated citipy to determine city based on latitude and longitude\n",
    "from citipy import citipy\n",
    "\n",
    "# Output File (CSV)\n",
    "output_data_file = \"output_data/cities.csv\"\n",
    "\n",
    "# Range of latitudes and longitudes\n",
    "lat_range = (-90, 90)\n",
    "lng_range = (-180, 180)"
   ]
  },
  {
   "cell_type": "markdown",
   "metadata": {},
   "source": [
    "## Generate Cities List"
   ]
  },
  {
   "cell_type": "code",
   "execution_count": 3,
   "metadata": {},
   "outputs": [
    {
     "data": {
      "text/plain": [
       "619"
      ]
     },
     "execution_count": 3,
     "metadata": {},
     "output_type": "execute_result"
    }
   ],
   "source": [
    "# List for holding lat_lngs and cities\n",
    "lat_lngs = []\n",
    "cities = []\n",
    "\n",
    "# Create a set of random lat and lng combinations\n",
    "lats = np.random.uniform(low=-90.000, high=90.000, size=1500)\n",
    "lngs = np.random.uniform(low=-180.000, high=180.000, size=1500)\n",
    "lat_lngs = zip(lats, lngs)\n",
    "\n",
    "# Identify nearest city for each lat, lng combination\n",
    "for lat_lng in lat_lngs:\n",
    "    city = citipy.nearest_city(lat_lng[0], lat_lng[1]).city_name\n",
    "    \n",
    "    # If the city is unique, then add it to a our cities list\n",
    "    if city not in cities:\n",
    "        cities.append(city)\n",
    "\n",
    "# Print the city count to confirm sufficient count\n",
    "len(cities)"
   ]
  },
  {
   "cell_type": "markdown",
   "metadata": {},
   "source": [
    "### Perform API Calls\n",
    "* Perform a weather check on each city using a series of successive API calls.\n",
    "* Include a print log of each city as it'sbeing processed (with the city number and city name).\n"
   ]
  },
  {
   "cell_type": "code",
   "execution_count": 4,
   "metadata": {},
   "outputs": [
    {
     "name": "stdout",
     "output_type": "stream",
     "text": [
      "Beginning Data Retrieval\n",
      "-----------------------------\n",
      "Processing Record 1| strezhevoy\n",
      "Processing Record 2| kapaa\n",
      "Processing Record 3| yangambi\n",
      "Processing Record 4| saint-philippe\n",
      "Processing Record 5| achacachi\n",
      "Processing Record 6| ushuaia\n",
      "Processing Record 7| alekseyevka\n",
      "Processing Record 8| bluff\n",
      "Processing Record 9| busselton\n",
      "Processing Record 10| nikolskoye\n",
      "Processing Record 11| whyalla\n",
      "Processing Record 12| tuktoyaktuk\n",
      "Processing Record 13| kota kinabalu\n",
      "Processing Record 14| ahuimanu\n",
      "Processing Record 15| porbandar\n",
      "Processing Record 16| lorengau\n",
      "Processing Record 17| pevek\n",
      "Processing Record 18| cape town\n",
      "Processing Record 19| ayagoz\n",
      "Processing Record 20| ancud\n",
      "Processing Record 21| okha\n",
      "Processing Record 22| atuona\n",
      "Processing Record 23| marsh harbour\n",
      "Processing Record 24| saleaula\n",
      "saleaula not found. Skipping...\n",
      "Processing Record 25| clyde river\n",
      "Processing Record 26| iskateley\n",
      "Processing Record 27| tabou\n",
      "Processing Record 28| kamaishi\n",
      "Processing Record 29| norman wells\n",
      "Processing Record 30| saskylakh\n",
      "Processing Record 31| albany\n",
      "Processing Record 32| arnedo\n",
      "Processing Record 33| verkhoyansk\n",
      "Processing Record 34| leningradskiy\n",
      "Processing Record 35| hurghada\n",
      "Processing Record 36| mozarlandia\n",
      "Processing Record 37| parana\n",
      "Processing Record 38| victoria\n",
      "Processing Record 39| port alfred\n",
      "Processing Record 40| wynyard\n",
      "Processing Record 41| khatanga\n",
      "Processing Record 42| mahebourg\n",
      "Processing Record 43| sitka\n",
      "Processing Record 44| vaini\n",
      "Processing Record 45| caravelas\n",
      "Processing Record 46| rikitea\n",
      "Processing Record 47| luang prabang\n",
      "Processing Record 48| port lincoln\n",
      "Processing Record 49| wajir\n",
      "Processing Record 50| narsaq\n",
      "Processing Record 51| yellowknife\n",
      "Processing Record 52| hermanus\n",
      "Processing Record 53| tamandare\n",
      "Processing Record 54| hobart\n",
      "Processing Record 55| alofi\n",
      "Processing Record 56| pokhara\n",
      "Processing Record 57| puerto ayora\n",
      "Processing Record 58| kawalu\n",
      "Processing Record 59| te anau\n",
      "Processing Record 60| kaitangata\n",
      "Processing Record 61| kavaratti\n",
      "Processing Record 62| whitehorse\n",
      "Processing Record 63| jamestown\n",
      "Processing Record 64| sucua\n",
      "Processing Record 65| saint-georges\n",
      "Processing Record 66| solnechnyy\n",
      "Processing Record 67| acapulco\n",
      "Processing Record 68| peleduy\n",
      "Processing Record 69| nuuk\n",
      "Processing Record 70| dikson\n",
      "Processing Record 71| bredasdorp\n",
      "Processing Record 72| alice springs\n",
      "Processing Record 73| sao francisco do sul\n",
      "Processing Record 74| koszalin\n",
      "Processing Record 75| bengkulu\n",
      "Processing Record 76| kaeo\n",
      "Processing Record 77| punta arenas\n",
      "Processing Record 78| attawapiskat\n",
      "attawapiskat not found. Skipping...\n",
      "Processing Record 79| butaritari\n",
      "Processing Record 80| samusu\n",
      "samusu not found. Skipping...\n",
      "Processing Record 81| bambous virieux\n",
      "Processing Record 82| pitimbu\n",
      "Processing Record 83| port macquarie\n",
      "Processing Record 84| haibowan\n",
      "haibowan not found. Skipping...\n",
      "Processing Record 85| tiarei\n",
      "Processing Record 86| samalaeulu\n",
      "samalaeulu not found. Skipping...\n",
      "Processing Record 87| muros\n",
      "Processing Record 88| sao filipe\n",
      "Processing Record 89| provideniya\n",
      "Processing Record 90| belushya guba\n",
      "belushya guba not found. Skipping...\n",
      "Processing Record 91| yenagoa\n",
      "Processing Record 92| kamenka\n",
      "Processing Record 93| port blair\n",
      "Processing Record 94| longyearbyen\n",
      "Processing Record 95| port elizabeth\n",
      "Processing Record 96| sunrise manor\n",
      "Processing Record 97| mendoza\n",
      "Processing Record 98| shushtar\n",
      "Processing Record 99| east london\n",
      "Processing Record 100| veraval\n",
      "Processing Record 101| geraldton\n",
      "Processing Record 102| mayo\n",
      "Processing Record 103| taolanaro\n",
      "taolanaro not found. Skipping...\n",
      "Processing Record 104| fairbanks\n",
      "Processing Record 105| nantucket\n",
      "Processing Record 106| kegayli\n",
      "kegayli not found. Skipping...\n",
      "Processing Record 107| tuatapere\n",
      "Processing Record 108| mitsamiouli\n",
      "Processing Record 109| new norfolk\n",
      "Processing Record 110| ngukurr\n",
      "ngukurr not found. Skipping...\n",
      "Processing Record 111| esperance\n",
      "Processing Record 112| chagda\n",
      "chagda not found. Skipping...\n",
      "Processing Record 113| fort nelson\n",
      "Processing Record 114| marzuq\n",
      "Processing Record 115| ponta do sol\n",
      "Processing Record 116| yilan\n",
      "Processing Record 117| mataura\n",
      "Processing Record 118| carnarvon\n",
      "Processing Record 119| castro\n",
      "Processing Record 120| klaksvik\n",
      "Processing Record 121| beringovskiy\n",
      "Processing Record 122| panama city\n",
      "Processing Record 123| muroto\n",
      "Processing Record 124| bethel\n",
      "Processing Record 125| casablanca\n",
      "Processing Record 126| makakilo city\n",
      "Processing Record 127| el alto\n",
      "Processing Record 128| jizan\n",
      "Processing Record 129| barrow\n",
      "Processing Record 130| bud\n",
      "Processing Record 131| qaanaaq\n",
      "Processing Record 132| dicabisagan\n",
      "Processing Record 133| hunza\n",
      "hunza not found. Skipping...\n",
      "Processing Record 134| mackay\n",
      "Processing Record 135| ust-maya\n",
      "Processing Record 136| chokurdakh\n",
      "Processing Record 137| port hedland\n",
      "Processing Record 138| huntingdon\n",
      "Processing Record 139| airai\n",
      "Processing Record 140| belmonte\n",
      "Processing Record 141| souillac\n",
      "Processing Record 142| palabuhanratu\n",
      "palabuhanratu not found. Skipping...\n",
      "Processing Record 143| hilo\n",
      "Processing Record 144| tuburan\n",
      "Processing Record 145| hambantota\n",
      "Processing Record 146| cidreira\n",
      "Processing Record 147| samana\n",
      "Processing Record 148| anadyr\n",
      "Processing Record 149| nyaunglebin\n",
      "Processing Record 150| chuy\n",
      "Processing Record 151| vilcun\n",
      "Processing Record 152| sentyabrskiy\n",
      "sentyabrskiy not found. Skipping...\n",
      "Processing Record 153| luderitz\n",
      "Processing Record 154| avarua\n",
      "Processing Record 155| san cristobal\n",
      "Processing Record 156| carbonia\n",
      "Processing Record 157| moerai\n",
      "Processing Record 158| do rud\n",
      "do rud not found. Skipping...\n",
      "Processing Record 159| amderma\n",
      "amderma not found. Skipping...\n",
      "Processing Record 160| georgetown\n",
      "Processing Record 161| broome\n",
      "Processing Record 162| suzu\n",
      "suzu not found. Skipping...\n",
      "Processing Record 163| sertania\n",
      "Processing Record 164| illoqqortoormiut\n",
      "illoqqortoormiut not found. Skipping...\n",
      "Processing Record 165| grand gaube\n",
      "Processing Record 166| port hardy\n",
      "Processing Record 167| mehamn\n",
      "Processing Record 168| northam\n",
      "Processing Record 169| ust-barguzin\n",
      "Processing Record 170| kaeng khlo\n",
      "kaeng khlo not found. Skipping...\n",
      "Processing Record 171| saint george\n",
      "Processing Record 172| rocha\n",
      "Processing Record 173| hithadhoo\n",
      "Processing Record 174| verkhnyaya inta\n",
      "Processing Record 175| moville\n",
      "Processing Record 176| dwarka\n",
      "Processing Record 177| saint anthony\n",
      "Processing Record 178| yar-sale\n",
      "Processing Record 179| imbituba\n",
      "Processing Record 180| fare\n",
      "Processing Record 181| godda\n",
      "Processing Record 182| ashdod\n",
      "Processing Record 183| malindi\n",
      "Processing Record 184| asfi\n",
      "Processing Record 185| nchelenge\n",
      "Processing Record 186| coahuayana\n",
      "Processing Record 187| nampula\n",
      "Processing Record 188| hasaki\n",
      "Processing Record 189| erenhot\n",
      "Processing Record 190| tevriz\n",
      "Processing Record 191| naze\n",
      "Processing Record 192| lalomanu\n",
      "lalomanu not found. Skipping...\n",
      "Processing Record 193| obo\n",
      "Processing Record 194| bima\n",
      "Processing Record 195| arraial do cabo\n",
      "Processing Record 196| tasiilaq\n",
      "Processing Record 197| alta gracia\n",
      "Processing Record 198| severo-kurilsk\n",
      "Processing Record 199| pisco\n",
      "Processing Record 200| tiksi\n",
      "Processing Record 201| benguela\n",
      "Processing Record 202| mar del plata\n",
      "Processing Record 203| nanortalik\n",
      "Processing Record 204| lazaro cardenas\n",
      "Processing Record 205| guerrero negro\n",
      "Processing Record 206| san patricio\n",
      "Processing Record 207| lavrentiya\n",
      "Processing Record 208| billings\n",
      "Processing Record 209| dingle\n",
      "Processing Record 210| barentsburg\n",
      "barentsburg not found. Skipping...\n",
      "Processing Record 211| chapais\n",
      "Processing Record 212| derzhavinsk\n",
      "Processing Record 213| manacapuru\n",
      "Processing Record 214| ambilobe\n",
      "Processing Record 215| plainview\n",
      "Processing Record 216| bara\n",
      "Processing Record 217| santiago del estero\n",
      "Processing Record 218| binga\n",
      "Processing Record 219| nouadhibou\n",
      "Processing Record 220| west bay\n",
      "Processing Record 221| ahipara\n",
      "Processing Record 222| berlevag\n",
      "Processing Record 223| baykit\n",
      "Processing Record 224| halifax\n",
      "Processing Record 225| damietta\n",
      "Processing Record 226| thompson\n",
      "Processing Record 227| sento se\n",
      "sento se not found. Skipping...\n",
      "Processing Record 228| brumadinho\n",
      "Processing Record 229| lebu\n",
      "Processing Record 230| jinchengjiang\n",
      "jinchengjiang not found. Skipping...\n",
      "Processing Record 231| dombarovskiy\n",
      "Processing Record 232| batemans bay\n"
     ]
    },
    {
     "name": "stdout",
     "output_type": "stream",
     "text": [
      "Processing Record 233| aquiraz\n",
      "Processing Record 234| russkiy aktash\n",
      "Processing Record 235| jutai\n",
      "Processing Record 236| faanui\n",
      "Processing Record 237| yulara\n",
      "Processing Record 238| turukhansk\n",
      "Processing Record 239| palm valley\n",
      "Processing Record 240| bukachacha\n",
      "Processing Record 241| axim\n",
      "Processing Record 242| paamiut\n",
      "Processing Record 243| olafsvik\n",
      "Processing Record 244| kommunisticheskiy\n",
      "Processing Record 245| acari\n",
      "Processing Record 246| pangody\n",
      "Processing Record 247| jiddah\n",
      "jiddah not found. Skipping...\n",
      "Processing Record 248| kuching\n",
      "Processing Record 249| vardo\n",
      "Processing Record 250| flinders\n",
      "Processing Record 251| vladivostok\n",
      "Processing Record 252| plettenberg bay\n",
      "Processing Record 253| pirapo\n",
      "Processing Record 254| jeremie\n",
      "Processing Record 255| lamesa\n",
      "Processing Record 256| okhotsk\n",
      "Processing Record 257| kulhudhuffushi\n",
      "Processing Record 258| tsihombe\n",
      "tsihombe not found. Skipping...\n",
      "Processing Record 259| constitucion\n",
      "Processing Record 260| brownsville\n",
      "Processing Record 261| thunder bay\n",
      "Processing Record 262| louisbourg\n",
      "louisbourg not found. Skipping...\n",
      "Processing Record 263| pandan\n",
      "Processing Record 264| camabatela\n",
      "Processing Record 265| lantawan\n",
      "Processing Record 266| logten\n",
      "Processing Record 267| lolua\n",
      "lolua not found. Skipping...\n",
      "Processing Record 268| grand centre\n",
      "grand centre not found. Skipping...\n",
      "Processing Record 269| baruun-urt\n",
      "Processing Record 270| ketchikan\n",
      "Processing Record 271| deputatskiy\n",
      "Processing Record 272| hoquiam\n",
      "Processing Record 273| uwayl\n",
      "uwayl not found. Skipping...\n",
      "Processing Record 274| pangai\n",
      "Processing Record 275| irece\n",
      "Processing Record 276| tromso\n",
      "Processing Record 277| cusuna\n",
      "Processing Record 278| las palmas\n",
      "Processing Record 279| saldanha\n",
      "Processing Record 280| carnduff\n",
      "Processing Record 281| comodoro rivadavia\n",
      "Processing Record 282| niamey\n",
      "Processing Record 283| adrar\n",
      "Processing Record 284| giyani\n",
      "Processing Record 285| ostrovnoy\n",
      "Processing Record 286| paso de los toros\n",
      "Processing Record 287| komsomolskiy\n",
      "Processing Record 288| hovd\n",
      "Processing Record 289| nizhneyansk\n",
      "nizhneyansk not found. Skipping...\n",
      "Processing Record 290| algodones\n",
      "Processing Record 291| sioux lookout\n",
      "Processing Record 292| iracoubo\n",
      "Processing Record 293| nabire\n",
      "Processing Record 294| contai\n",
      "Processing Record 295| apricena\n",
      "Processing Record 296| shakawe\n",
      "Processing Record 297| beloha\n",
      "Processing Record 298| takoradi\n",
      "Processing Record 299| lompoc\n",
      "Processing Record 300| zhitikara\n",
      "zhitikara not found. Skipping...\n",
      "Processing Record 301| raudeberg\n",
      "Processing Record 302| moose factory\n",
      "Processing Record 303| portland\n",
      "Processing Record 304| luanda\n",
      "Processing Record 305| karratha\n",
      "Processing Record 306| mandalgovi\n",
      "Processing Record 307| nguiu\n",
      "nguiu not found. Skipping...\n",
      "Processing Record 308| tumannyy\n",
      "tumannyy not found. Skipping...\n",
      "Processing Record 309| zaton\n",
      "Processing Record 310| suoyarvi\n",
      "Processing Record 311| mikhaylovka\n",
      "Processing Record 312| pedasi\n",
      "Processing Record 313| kodiak\n",
      "Processing Record 314| torbay\n",
      "Processing Record 315| arlit\n",
      "Processing Record 316| hualmay\n",
      "Processing Record 317| lugovoy\n",
      "Processing Record 318| henties bay\n",
      "Processing Record 319| kangaatsiaq\n",
      "Processing Record 320| kruisfontein\n",
      "Processing Record 321| ciudad bolivar\n",
      "Processing Record 322| yamada\n",
      "Processing Record 323| yayva\n",
      "Processing Record 324| kahului\n",
      "Processing Record 325| okandja\n",
      "okandja not found. Skipping...\n",
      "Processing Record 326| fukue\n",
      "Processing Record 327| ribeira grande\n",
      "Processing Record 328| mount gambier\n",
      "Processing Record 329| kabare\n",
      "Processing Record 330| lasa\n",
      "Processing Record 331| goderich\n",
      "Processing Record 332| cherskiy\n",
      "Processing Record 333| fortuna\n",
      "Processing Record 334| chokwe\n",
      "Processing Record 335| dharchula\n",
      "Processing Record 336| kracheh\n",
      "kracheh not found. Skipping...\n",
      "Processing Record 337| orlik\n",
      "Processing Record 338| khonuu\n",
      "khonuu not found. Skipping...\n",
      "Processing Record 339| quelimane\n",
      "Processing Record 340| ler\n",
      "Processing Record 341| opelousas\n",
      "Processing Record 342| barra patuca\n",
      "Processing Record 343| marcona\n",
      "marcona not found. Skipping...\n",
      "Processing Record 344| timbiras\n",
      "Processing Record 345| padang\n",
      "Processing Record 346| gulshat\n",
      "gulshat not found. Skipping...\n",
      "Processing Record 347| tabiauea\n",
      "tabiauea not found. Skipping...\n",
      "Processing Record 348| sosnovo\n",
      "Processing Record 349| harper\n",
      "Processing Record 350| north marysville\n",
      "north marysville not found. Skipping...\n",
      "Processing Record 351| bousso\n",
      "Processing Record 352| bonfim\n",
      "Processing Record 353| alyangula\n",
      "Processing Record 354| liverpool\n",
      "Processing Record 355| manta\n",
      "Processing Record 356| ystad\n",
      "Processing Record 357| codrington\n",
      "Processing Record 358| milkovo\n",
      "Processing Record 359| eureka\n",
      "Processing Record 360| kavieng\n",
      "Processing Record 361| mazyr\n",
      "Processing Record 362| tessaoua\n",
      "Processing Record 363| malko tarnovo\n",
      "Processing Record 364| houma\n",
      "Processing Record 365| lagoa\n",
      "Processing Record 366| upernavik\n",
      "Processing Record 367| la ronge\n",
      "Processing Record 368| goundam\n",
      "Processing Record 369| labutta\n",
      "labutta not found. Skipping...\n",
      "Processing Record 370| benjamin constant\n",
      "Processing Record 371| owando\n",
      "Processing Record 372| zhuanghe\n",
      "Processing Record 373| camacha\n",
      "Processing Record 374| imeni poliny osipenko\n",
      "Processing Record 375| radis\n",
      "Processing Record 376| sonoita\n",
      "Processing Record 377| berea\n",
      "Processing Record 378| kununurra\n",
      "Processing Record 379| sangmelima\n",
      "Processing Record 380| cabo san lucas\n",
      "Processing Record 381| nyurba\n",
      "Processing Record 382| richards bay\n",
      "Processing Record 383| requena\n",
      "Processing Record 384| upington\n",
      "Processing Record 385| pontes e lacerda\n",
      "Processing Record 386| sistranda\n",
      "Processing Record 387| sorong\n",
      "Processing Record 388| grand-lahou\n",
      "Processing Record 389| labuhan\n",
      "Processing Record 390| villa maria\n",
      "Processing Record 391| rogun\n",
      "rogun not found. Skipping...\n",
      "Processing Record 392| williams lake\n",
      "Processing Record 393| cuiluan\n",
      "Processing Record 394| tilichiki\n",
      "Processing Record 395| salalah\n",
      "Processing Record 396| vanavara\n",
      "Processing Record 397| maceio\n",
      "Processing Record 398| margate\n",
      "Processing Record 399| aflu\n",
      "aflu not found. Skipping...\n",
      "Processing Record 400| tura\n",
      "Processing Record 401| mount pleasant\n",
      "Processing Record 402| binika\n",
      "Processing Record 403| valle de banderas\n",
      "Processing Record 404| bargal\n",
      "bargal not found. Skipping...\n",
      "Processing Record 405| valle de allende\n",
      "Processing Record 406| elban\n",
      "Processing Record 407| yanan\n",
      "yanan not found. Skipping...\n",
      "Processing Record 408| ulladulla\n",
      "Processing Record 409| goure\n",
      "Processing Record 410| ploemeur\n",
      "Processing Record 411| khani\n",
      "Processing Record 412| xining\n",
      "Processing Record 413| coquimbo\n",
      "Processing Record 414| neiafu\n",
      "Processing Record 415| kloulklubed\n",
      "Processing Record 416| uni\n",
      "Processing Record 417| preobrazheniye\n",
      "Processing Record 418| aripuana\n",
      "Processing Record 419| ewa beach\n",
      "Processing Record 420| berdigestyakh\n",
      "Processing Record 421| puerto rondon\n",
      "Processing Record 422| zaritap\n",
      "Processing Record 423| biankouma\n",
      "Processing Record 424| dalvik\n",
      "Processing Record 425| thanh hoa\n",
      "Processing Record 426| white center\n",
      "Processing Record 427| karkaralinsk\n",
      "karkaralinsk not found. Skipping...\n",
      "Processing Record 428| ayan\n",
      "Processing Record 429| karaul\n",
      "karaul not found. Skipping...\n",
      "Processing Record 430| cayenne\n",
      "Processing Record 431| kita\n",
      "Processing Record 432| wawa\n",
      "Processing Record 433| grand river south east\n",
      "grand river south east not found. Skipping...\n",
      "Processing Record 434| canaries\n",
      "Processing Record 435| nizhnedevitsk\n",
      "Processing Record 436| laguna\n",
      "Processing Record 437| yongan\n",
      "Processing Record 438| brae\n",
      "Processing Record 439| makaha\n",
      "Processing Record 440| gat\n",
      "Processing Record 441| gdov\n",
      "Processing Record 442| whitianga\n",
      "Processing Record 443| wenceslau braz\n",
      "Processing Record 444| ferrol\n",
      "Processing Record 445| quebo\n",
      "Processing Record 446| zyryanovsk\n",
      "Processing Record 447| pucallpa\n",
      "Processing Record 448| viligili\n",
      "viligili not found. Skipping...\n",
      "Processing Record 449| turayf\n",
      "Processing Record 450| chicama\n",
      "Processing Record 451| chiang rai\n",
      "Processing Record 452| temir\n",
      "Processing Record 453| huehuetan\n",
      "Processing Record 454| boda\n",
      "Processing Record 455| killarney\n",
      "Processing Record 456| eenhana\n",
      "Processing Record 457| palana\n",
      "Processing Record 458| pangnirtung\n",
      "Processing Record 459| cockburn town\n",
      "Processing Record 460| vao\n",
      "Processing Record 461| uralskiy\n",
      "uralskiy not found. Skipping...\n",
      "Processing Record 462| guayaramerin\n"
     ]
    },
    {
     "name": "stdout",
     "output_type": "stream",
     "text": [
      "Processing Record 463| sidi ali\n",
      "Processing Record 464| sao gabriel da cachoeira\n",
      "Processing Record 465| valparaiso\n",
      "Processing Record 466| kakanj\n",
      "Processing Record 467| hearst\n",
      "Processing Record 468| turtas\n",
      "Processing Record 469| vanimo\n",
      "Processing Record 470| nome\n",
      "Processing Record 471| gizo\n",
      "Processing Record 472| aracati\n",
      "Processing Record 473| ouadda\n",
      "Processing Record 474| meyungs\n",
      "meyungs not found. Skipping...\n",
      "Processing Record 475| vaitupu\n",
      "vaitupu not found. Skipping...\n",
      "Processing Record 476| varzea da palma\n",
      "Processing Record 477| ji-parana\n",
      "ji-parana not found. Skipping...\n",
      "Processing Record 478| pinawa\n",
      "Processing Record 479| ouahigouya\n",
      "Processing Record 480| arona\n",
      "Processing Record 481| neepawa\n",
      "Processing Record 482| kenai\n",
      "Processing Record 483| ngunguru\n",
      "Processing Record 484| kayerkan\n",
      "Processing Record 485| bloomingdale\n",
      "Processing Record 486| paita\n",
      "Processing Record 487| guarapari\n",
      "Processing Record 488| nakhon phanom\n",
      "Processing Record 489| santa cruz verapaz\n",
      "Processing Record 490| homer\n",
      "Processing Record 491| saravena\n",
      "Processing Record 492| maniitsoq\n",
      "Processing Record 493| mys shmidta\n",
      "mys shmidta not found. Skipping...\n",
      "Processing Record 494| bandarbeyla\n",
      "Processing Record 495| abha\n",
      "Processing Record 496| tonj\n",
      "Processing Record 497| krasnoselkup\n",
      "Processing Record 498| maiduguri\n",
      "Processing Record 499| urusha\n",
      "Processing Record 500| mackenzie\n",
      "Processing Record 501| tucuman\n",
      "Processing Record 502| santo anastacio\n",
      "Processing Record 503| baherden\n",
      "Processing Record 504| asau\n",
      "Processing Record 505| olutanga\n",
      "Processing Record 506| havoysund\n",
      "Processing Record 507| santa barbara\n",
      "Processing Record 508| sawtell\n",
      "Processing Record 509| tocantinopolis\n",
      "tocantinopolis not found. Skipping...\n",
      "Processing Record 510| shenjiamen\n",
      "Processing Record 511| gubkinskiy\n",
      "Processing Record 512| nam tha\n",
      "nam tha not found. Skipping...\n",
      "Processing Record 513| hereford\n",
      "Processing Record 514| tevaitoa\n",
      "Processing Record 515| inderka\n",
      "Processing Record 516| vilhena\n",
      "Processing Record 517| katsuura\n",
      "Processing Record 518| linxia\n",
      "Processing Record 519| quatre cocos\n",
      "Processing Record 520| maun\n",
      "Processing Record 521| litoral del san juan\n",
      "litoral del san juan not found. Skipping...\n",
      "Processing Record 522| santiago\n",
      "Processing Record 523| cluses\n",
      "Processing Record 524| tual\n",
      "Processing Record 525| gornorechenskiy\n",
      "Processing Record 526| kudahuvadhoo\n",
      "Processing Record 527| nalut\n",
      "Processing Record 528| svetlogorsk\n",
      "Processing Record 529| aklavik\n",
      "Processing Record 530| tessalit\n",
      "Processing Record 531| mareeba\n",
      "Processing Record 532| ngorongoro\n",
      "Processing Record 533| vestmannaeyjar\n",
      "Processing Record 534| saint-pierre\n",
      "Processing Record 535| amagi\n",
      "Processing Record 536| namibe\n",
      "Processing Record 537| umzimvubu\n",
      "umzimvubu not found. Skipping...\n",
      "Processing Record 538| kutum\n",
      "Processing Record 539| port shepstone\n",
      "Processing Record 540| saint-joseph\n",
      "Processing Record 541| pilar\n",
      "Processing Record 542| busayra\n",
      "Processing Record 543| yerbogachen\n",
      "Processing Record 544| luganville\n",
      "Processing Record 545| hami\n",
      "Processing Record 546| partapur\n",
      "Processing Record 547| tselina\n",
      "Processing Record 548| corrente\n",
      "Processing Record 549| coolum beach\n",
      "Processing Record 550| belaya gora\n",
      "Processing Record 551| mouzakion\n",
      "mouzakion not found. Skipping...\n",
      "Processing Record 552| guozhen\n",
      "Processing Record 553| tarudant\n",
      "tarudant not found. Skipping...\n",
      "Processing Record 554| atambua\n",
      "Processing Record 555| temirtau\n",
      "Processing Record 556| meadow lake\n",
      "Processing Record 557| galiwinku\n",
      "galiwinku not found. Skipping...\n",
      "Processing Record 558| lakes entrance\n",
      "Processing Record 559| gazojak\n",
      "Processing Record 560| sorland\n",
      "Processing Record 561| oranjemund\n",
      "Processing Record 562| nieves\n",
      "Processing Record 563| zhangjiakou\n",
      "Processing Record 564| mount isa\n",
      "Processing Record 565| xapuri\n",
      "Processing Record 566| adelaide\n",
      "Processing Record 567| kunashak\n",
      "Processing Record 568| el silencio\n",
      "Processing Record 569| mahadday weyne\n",
      "mahadday weyne not found. Skipping...\n",
      "Processing Record 570| nongan\n",
      "Processing Record 571| hofn\n",
      "Processing Record 572| corn island\n",
      "Processing Record 573| mindyak\n",
      "Processing Record 574| korla\n",
      "Processing Record 575| cacahuatepec\n",
      "Processing Record 576| melo\n",
      "Processing Record 577| fuerte olimpo\n",
      "Processing Record 578| miracatu\n",
      "Processing Record 579| sur\n",
      "Processing Record 580| yirol\n",
      "yirol not found. Skipping...\n",
      "Processing Record 581| carutapera\n",
      "Processing Record 582| haines junction\n",
      "Processing Record 583| abu dhabi\n",
      "Processing Record 584| charagua\n",
      "Processing Record 585| matadi\n",
      "Processing Record 586| kibala\n",
      "Processing Record 587| bria\n",
      "Processing Record 588| novyy urengoy\n",
      "Processing Record 589| karpogory\n",
      "Processing Record 590| doha\n",
      "Processing Record 591| wanning\n",
      "Processing Record 592| swift current\n",
      "Processing Record 593| araouane\n",
      "Processing Record 594| namatanai\n",
      "Processing Record 595| odweyne\n",
      "Processing Record 596| rabo de peixe\n",
      "Processing Record 597| monteagudo\n",
      "Processing Record 598| sarakhs\n",
      "Processing Record 599| bonthe\n",
      "Processing Record 600| huntsville\n",
      "Processing Record 601| kumta\n",
      "Processing Record 602| tarko-sale\n",
      "Processing Record 603| marfino\n",
      "Processing Record 604| jidong\n",
      "Processing Record 605| chaozhou\n",
      "Processing Record 606| kashi\n",
      "Processing Record 607| dianopolis\n",
      "dianopolis not found. Skipping...\n",
      "Processing Record 608| knysna\n",
      "Processing Record 609| mega\n",
      "Processing Record 610| buraydah\n",
      "Processing Record 611| riyadh\n",
      "Processing Record 612| skelleftea\n",
      "Processing Record 613| phan thiet\n",
      "Processing Record 614| saryg-sep\n",
      "Processing Record 615| palmer\n",
      "Processing Record 616| koutiala\n",
      "Processing Record 617| mecca\n",
      "Processing Record 618| prince rupert\n",
      "Processing Record 619| anito\n"
     ]
    }
   ],
   "source": [
    "#Open weather API\n",
    "url = \"http://api.openweathermap.org/data/2.5/weather?\"\n",
    "units = \"Imperial\"\n",
    "city_list = []\n",
    "cloudiness_list = []\n",
    "country_list = []\n",
    "date_list = []\n",
    "humidity_list = [] \n",
    "lat_list = [] \n",
    "Lng_list = [] \n",
    "Temp_list = [] \n",
    "Wind_list = []\n",
    "i=1\n",
    "\n",
    "# Build query URL and request your results in Celsius\n",
    "print(f'Beginning Data Retrieval')\n",
    "print(f'-----------------------------')\n",
    "for city in cities:\n",
    "    print(f'Processing Record {i}| {city}')\n",
    "    query_url = f\"{url}appid={openweather_key}&q={city}&units={units}\"\n",
    "    i = i +1\n",
    "    # Get weather data\n",
    "    weather_json = requests.get(query_url).json()\n",
    "    try:\n",
    "        city_list.append(weather_json['name'])\n",
    "        cloudiness_list.append(weather_json['clouds']['all'])\n",
    "        country_list.append(weather_json['sys']['country'])\n",
    "        date_list.append(weather_json['dt'])\n",
    "        humidity_list.append(weather_json['main']['humidity'])\n",
    "        lat_list.append(weather_json['coord']['lat'])\n",
    "        Lng_list.append(weather_json['coord']['lon'])\n",
    "        Temp_list.append(weather_json['main']['temp_max'])\n",
    "        Wind_list.append(weather_json['wind']['speed'])\n",
    "        time.sleep(1)\n",
    "    # Handle exceptions for a city thats not found\n",
    "    except:\n",
    "        # Append null values\n",
    "        print(f\"{city} not found. Skipping...\")\n",
    "        pass    \n"
   ]
  },
  {
   "cell_type": "markdown",
   "metadata": {},
   "source": [
    "### Convert Raw Data to DataFrame\n",
    "* Export the city data into a .csv.\n",
    "* Display the DataFrame"
   ]
  },
  {
   "cell_type": "code",
   "execution_count": 52,
   "metadata": {},
   "outputs": [],
   "source": [
    "#Exporting the city data into a .csv.\n",
    "city_dict = {\n",
    "    \"city\" : city_list,\n",
    "    \"cloudiness\":cloudiness_list,\n",
    "    \"country\":country_list,\n",
    "    \"date\" :date_list,\n",
    "    \"humidity\":humidity_list,\n",
    "    \"lat\":lat_list,\n",
    "    \"Lng\":Lng_list,\n",
    "    \"Temp\":Temp_list,\n",
    "    \"Wind\":Wind_list\n",
    "}\n",
    "\n",
    "city_df = pd.DataFrame(city_dict)\n",
    "city_df = city_df.dropna(how='any')\n",
    "city_df.to_csv(\"cities.csv\", encoding=\"utf-8\", index=False) "
   ]
  },
  {
   "cell_type": "code",
   "execution_count": 53,
   "metadata": {},
   "outputs": [],
   "source": [
    "#Ge today date in the format we need\n",
    "today_date = date.today().strftime(\"%m/%d/%y\")"
   ]
  },
  {
   "cell_type": "code",
   "execution_count": 54,
   "metadata": {},
   "outputs": [
    {
     "data": {
      "text/html": [
       "<div>\n",
       "<style scoped>\n",
       "    .dataframe tbody tr th:only-of-type {\n",
       "        vertical-align: middle;\n",
       "    }\n",
       "\n",
       "    .dataframe tbody tr th {\n",
       "        vertical-align: top;\n",
       "    }\n",
       "\n",
       "    .dataframe thead th {\n",
       "        text-align: right;\n",
       "    }\n",
       "</style>\n",
       "<table border=\"1\" class=\"dataframe\">\n",
       "  <thead>\n",
       "    <tr style=\"text-align: right;\">\n",
       "      <th></th>\n",
       "      <th>city</th>\n",
       "      <th>cloudiness</th>\n",
       "      <th>country</th>\n",
       "      <th>date</th>\n",
       "      <th>humidity</th>\n",
       "      <th>lat</th>\n",
       "      <th>Lng</th>\n",
       "      <th>Temp</th>\n",
       "      <th>Wind</th>\n",
       "    </tr>\n",
       "  </thead>\n",
       "  <tbody>\n",
       "    <tr>\n",
       "      <th>0</th>\n",
       "      <td>Strezhevoy</td>\n",
       "      <td>90</td>\n",
       "      <td>RU</td>\n",
       "      <td>1579385670</td>\n",
       "      <td>92</td>\n",
       "      <td>60.73</td>\n",
       "      <td>77.59</td>\n",
       "      <td>8.60</td>\n",
       "      <td>4.47</td>\n",
       "    </tr>\n",
       "    <tr>\n",
       "      <th>1</th>\n",
       "      <td>Kapaa</td>\n",
       "      <td>75</td>\n",
       "      <td>US</td>\n",
       "      <td>1579385671</td>\n",
       "      <td>60</td>\n",
       "      <td>22.08</td>\n",
       "      <td>-159.32</td>\n",
       "      <td>75.20</td>\n",
       "      <td>17.22</td>\n",
       "    </tr>\n",
       "    <tr>\n",
       "      <th>2</th>\n",
       "      <td>Yangambi</td>\n",
       "      <td>89</td>\n",
       "      <td>CD</td>\n",
       "      <td>1579385672</td>\n",
       "      <td>92</td>\n",
       "      <td>0.81</td>\n",
       "      <td>24.43</td>\n",
       "      <td>71.02</td>\n",
       "      <td>2.71</td>\n",
       "    </tr>\n",
       "    <tr>\n",
       "      <th>3</th>\n",
       "      <td>Saint-Philippe</td>\n",
       "      <td>75</td>\n",
       "      <td>RE</td>\n",
       "      <td>1579385673</td>\n",
       "      <td>83</td>\n",
       "      <td>-21.36</td>\n",
       "      <td>55.77</td>\n",
       "      <td>80.60</td>\n",
       "      <td>5.82</td>\n",
       "    </tr>\n",
       "    <tr>\n",
       "      <th>4</th>\n",
       "      <td>Achacachi</td>\n",
       "      <td>100</td>\n",
       "      <td>BO</td>\n",
       "      <td>1579385674</td>\n",
       "      <td>94</td>\n",
       "      <td>-16.05</td>\n",
       "      <td>-68.68</td>\n",
       "      <td>38.28</td>\n",
       "      <td>9.64</td>\n",
       "    </tr>\n",
       "    <tr>\n",
       "      <th>...</th>\n",
       "      <td>...</td>\n",
       "      <td>...</td>\n",
       "      <td>...</td>\n",
       "      <td>...</td>\n",
       "      <td>...</td>\n",
       "      <td>...</td>\n",
       "      <td>...</td>\n",
       "      <td>...</td>\n",
       "      <td>...</td>\n",
       "    </tr>\n",
       "    <tr>\n",
       "      <th>551</th>\n",
       "      <td>Palmer</td>\n",
       "      <td>90</td>\n",
       "      <td>US</td>\n",
       "      <td>1579386275</td>\n",
       "      <td>85</td>\n",
       "      <td>42.16</td>\n",
       "      <td>-72.33</td>\n",
       "      <td>21.20</td>\n",
       "      <td>6.93</td>\n",
       "    </tr>\n",
       "    <tr>\n",
       "      <th>552</th>\n",
       "      <td>Koutiala</td>\n",
       "      <td>0</td>\n",
       "      <td>ML</td>\n",
       "      <td>1579386276</td>\n",
       "      <td>13</td>\n",
       "      <td>12.39</td>\n",
       "      <td>-5.46</td>\n",
       "      <td>72.10</td>\n",
       "      <td>9.26</td>\n",
       "    </tr>\n",
       "    <tr>\n",
       "      <th>553</th>\n",
       "      <td>Mecca</td>\n",
       "      <td>23</td>\n",
       "      <td>SA</td>\n",
       "      <td>1579386277</td>\n",
       "      <td>65</td>\n",
       "      <td>21.43</td>\n",
       "      <td>39.83</td>\n",
       "      <td>64.85</td>\n",
       "      <td>1.61</td>\n",
       "    </tr>\n",
       "    <tr>\n",
       "      <th>554</th>\n",
       "      <td>Prince Rupert</td>\n",
       "      <td>90</td>\n",
       "      <td>CA</td>\n",
       "      <td>1579386278</td>\n",
       "      <td>80</td>\n",
       "      <td>54.32</td>\n",
       "      <td>-130.32</td>\n",
       "      <td>35.60</td>\n",
       "      <td>18.34</td>\n",
       "    </tr>\n",
       "    <tr>\n",
       "      <th>555</th>\n",
       "      <td>Anito</td>\n",
       "      <td>65</td>\n",
       "      <td>PH</td>\n",
       "      <td>1579386279</td>\n",
       "      <td>82</td>\n",
       "      <td>12.45</td>\n",
       "      <td>125.29</td>\n",
       "      <td>80.40</td>\n",
       "      <td>20.65</td>\n",
       "    </tr>\n",
       "  </tbody>\n",
       "</table>\n",
       "<p>556 rows × 9 columns</p>\n",
       "</div>"
      ],
      "text/plain": [
       "               city  cloudiness country        date  humidity    lat     Lng  \\\n",
       "0        Strezhevoy          90      RU  1579385670        92  60.73   77.59   \n",
       "1             Kapaa          75      US  1579385671        60  22.08 -159.32   \n",
       "2          Yangambi          89      CD  1579385672        92   0.81   24.43   \n",
       "3    Saint-Philippe          75      RE  1579385673        83 -21.36   55.77   \n",
       "4         Achacachi         100      BO  1579385674        94 -16.05  -68.68   \n",
       "..              ...         ...     ...         ...       ...    ...     ...   \n",
       "551          Palmer          90      US  1579386275        85  42.16  -72.33   \n",
       "552        Koutiala           0      ML  1579386276        13  12.39   -5.46   \n",
       "553           Mecca          23      SA  1579386277        65  21.43   39.83   \n",
       "554   Prince Rupert          90      CA  1579386278        80  54.32 -130.32   \n",
       "555           Anito          65      PH  1579386279        82  12.45  125.29   \n",
       "\n",
       "      Temp   Wind  \n",
       "0     8.60   4.47  \n",
       "1    75.20  17.22  \n",
       "2    71.02   2.71  \n",
       "3    80.60   5.82  \n",
       "4    38.28   9.64  \n",
       "..     ...    ...  \n",
       "551  21.20   6.93  \n",
       "552  72.10   9.26  \n",
       "553  64.85   1.61  \n",
       "554  35.60  18.34  \n",
       "555  80.40  20.65  \n",
       "\n",
       "[556 rows x 9 columns]"
      ]
     },
     "execution_count": 54,
     "metadata": {},
     "output_type": "execute_result"
    }
   ],
   "source": [
    "#Display the data frame\n",
    "city_df "
   ]
  },
  {
   "cell_type": "markdown",
   "metadata": {},
   "source": [
    "### Plotting the Data\n",
    "* Use proper labeling of the plots using plot titles (including date of analysis) and axes labels.\n",
    "* Save the plotted figures as .pngs."
   ]
  },
  {
   "cell_type": "markdown",
   "metadata": {},
   "source": [
    "#### Latitude vs. Temperature Plot"
   ]
  },
  {
   "cell_type": "code",
   "execution_count": 90,
   "metadata": {
    "scrolled": true
   },
   "outputs": [
    {
     "data": {
      "image/png": "[encoded data removed]",
      "text/plain": [
       "<Figure size 432x288 with 1 Axes>"
      ]
     },
     "metadata": {
      "needs_background": "light"
     },
     "output_type": "display_data"
    }
   ],
   "source": [
    "#Plot Temperature (F) vs. Latitude on a scatter plot\n",
    "plt.scatter(city_df['lat'],city_df['Temp'])\n",
    "plt.xlabel(\"Latitude\")\n",
    "plt.ylabel(\"Temperature\")\n",
    "plt.title(f'Max Temperature (F) vs. Latitude ({today_date})')\n",
    "plt.savefig(f\"Images/Temperature Vs Latitude\")\n",
    "plt.show()"
   ]
  },
  {
   "cell_type": "code",
   "execution_count": 91,
   "metadata": {},
   "outputs": [
    {
     "name": "stdout",
     "output_type": "stream",
     "text": [
      "The correlation between both factors is -0.79\n"
     ]
    }
   ],
   "source": [
    "correlation = st.pearsonr(city_df['lat'],city_df['Temp'])\n",
    "print(f\"The correlation between both factors is {round(correlation[0],2)}\")"
   ]
  },
  {
   "cell_type": "markdown",
   "metadata": {},
   "source": [
    "#### Analysis\n",
    "* There is a negative correlation between the latitude and the temperature from both northern and southern hemispheres"
   ]
  },
  {
   "cell_type": "markdown",
   "metadata": {},
   "source": [
    "#### Latitude vs. Humidity Plot"
   ]
  },
  {
   "cell_type": "code",
   "execution_count": 92,
   "metadata": {},
   "outputs": [
    {
     "data": {
      "image/png": "[encoded data removed]",
      "text/plain": [
       "<Figure size 432x288 with 1 Axes>"
      ]
     },
     "metadata": {
      "needs_background": "light"
     },
     "output_type": "display_data"
    }
   ],
   "source": [
    "#Plot Humidity (%) vs. Latitude on a scatter plot\n",
    "plt.scatter(city_df['lat'],city_df['humidity'])\n",
    "plt.xlabel(\"Latitude\")\n",
    "plt.ylabel(\"Humidity (%)\")\n",
    "plt.title(f'Percentage of Humidity vs. Latitude ({today_date})')\n",
    "plt.savefig(f\"Images/Humidity Vs Latitude\")\n",
    "plt.show()"
   ]
  },
  {
   "cell_type": "code",
   "execution_count": 93,
   "metadata": {},
   "outputs": [
    {
     "name": "stdout",
     "output_type": "stream",
     "text": [
      "The correlation between both factors is 0.22\n"
     ]
    }
   ],
   "source": [
    "correlation = st.pearsonr(city_df['lat'],city_df['humidity'])\n",
    "print(f\"The correlation between both factors is {round(correlation[0],2)}\")"
   ]
  },
  {
   "cell_type": "markdown",
   "metadata": {},
   "source": [
    "#### Analysis\n",
    "* There is a weak correlation between the humidity % and the temperature from both northern and southern hemispheres"
   ]
  },
  {
   "cell_type": "markdown",
   "metadata": {},
   "source": [
    "#### Latitude vs. Cloudiness Plot"
   ]
  },
  {
   "cell_type": "code",
   "execution_count": 82,
   "metadata": {},
   "outputs": [
    {
     "data": {
      "image/png": "[encoded data removed]",
      "text/plain": [
       "<Figure size 432x288 with 1 Axes>"
      ]
     },
     "metadata": {
      "needs_background": "light"
     },
     "output_type": "display_data"
    }
   ],
   "source": [
    "#Plot Cloudiness (%) vs. Latitude on a scatter plot\n",
    "plt.scatter(city_df['lat'],city_df['cloudiness'])\n",
    "plt.xlabel(\"Latitude\")\n",
    "plt.ylabel(\"Cloudiness\")\n",
    "plt.title(f'Cloudiness vs. Latitude ({today_date})')\n",
    "plt.savefig(f\"Images/Cloudiness Vs Latitude\")\n",
    "plt.show()"
   ]
  },
  {
   "cell_type": "code",
   "execution_count": 83,
   "metadata": {},
   "outputs": [
    {
     "name": "stdout",
     "output_type": "stream",
     "text": [
      "The correlation between both factors is 0.03\n"
     ]
    }
   ],
   "source": [
    "correlation = st.pearsonr(city_df['lat'],city_df['cloudiness'])\n",
    "print(f\"The correlation between both factors is {round(correlation[0],2)}\")"
   ]
  },
  {
   "cell_type": "markdown",
   "metadata": {},
   "source": [
    "#### Analysis\n",
    "* There is a very weak correlation between the cloudiness % and the temperature from both northern and southern hemispheres"
   ]
  },
  {
   "cell_type": "markdown",
   "metadata": {},
   "source": [
    "#### Latitude vs. Wind Speed Plot"
   ]
  },
  {
   "cell_type": "code",
   "execution_count": 84,
   "metadata": {},
   "outputs": [
    {
     "data": {
      "image/png": "[encoded data removed]",
      "text/plain": [
       "<Figure size 432x288 with 1 Axes>"
      ]
     },
     "metadata": {
      "needs_background": "light"
     },
     "output_type": "display_data"
    }
   ],
   "source": [
    "#Plot Wind Speed (mph) vs. Latitude on a scatter plot\n",
    "plt.scatter(city_df['lat'],city_df['Wind'])\n",
    "plt.xlabel(\"Latitude\")\n",
    "plt.ylabel(\"Wind Speed (mph)\")\n",
    "plt.title(f'Wind Speed (mph) vs. Latitude ({today_date})')\n",
    "plt.savefig(f\"Images/Wind Speed Vs Latitude\")\n",
    "plt.show()"
   ]
  },
  {
   "cell_type": "code",
   "execution_count": 85,
   "metadata": {},
   "outputs": [
    {
     "name": "stdout",
     "output_type": "stream",
     "text": [
      "The correlation between both factors is -0.0\n"
     ]
    }
   ],
   "source": [
    "correlation = st.pearsonr(city_df['lat'],city_df['Wind'])\n",
    "print(f\"The correlation between both factors is {round(correlation[0],2)}\")"
   ]
  },
  {
   "cell_type": "markdown",
   "metadata": {},
   "source": [
    "#### Analysis\n",
    "* There is no correlation between the wind speed and the temperature from both northern and southern hemispheres\n"
   ]
  },
  {
   "cell_type": "markdown",
   "metadata": {},
   "source": [
    "## Linear Regression"
   ]
  },
  {
   "cell_type": "code",
   "execution_count": 86,
   "metadata": {},
   "outputs": [],
   "source": [
    "# A function to create Linear Regression plots\n",
    "def linear_regression_plotter(xaxis, yaxis):   \n",
    "    (slope, intercept, rvalue, pvalue, stderr) = st.linregress(xaxis, yaxis)\n",
    "    regress_values = xaxis * slope + intercept\n",
    "    line_eq = \"y = \" + str(round(slope,2)) + \"x + \" + str(round(intercept,2))\n",
    "    plt.scatter(xaxis, yaxis)\n",
    "    plt.plot(xaxis,regress_values,\"r-\")\n",
    "    plt.annotate(line_eq,(6,10),fontsize=15,color=\"red\")\n",
    "    print(f\"R squared: {rvalue}\")\n"
   ]
  },
  {
   "cell_type": "code",
   "execution_count": 87,
   "metadata": {
    "scrolled": false
   },
   "outputs": [],
   "source": [
    "# Create Northern and Southern Hemisphere DataFrames\n",
    "north_hemisphere_cities = city_df.loc[city_df['lat'] >= 0]\n",
    "south_hemisphere_cities = city_df.loc[city_df['lat'] < 0]"
   ]
  },
  {
   "cell_type": "markdown",
   "metadata": {},
   "source": [
    "####  Northern Hemisphere - Max Temp vs. Latitude Linear Regression"
   ]
  },
  {
   "cell_type": "code",
   "execution_count": 88,
   "metadata": {},
   "outputs": [
    {
     "name": "stdout",
     "output_type": "stream",
     "text": [
      "R squared: -0.8627516263338124\n"
     ]
    },
    {
     "data": {
      "image/png": "[encoded data removed]",
      "text/plain": [
       "<Figure size 432x288 with 1 Axes>"
      ]
     },
     "metadata": {
      "needs_background": "light"
     },
     "output_type": "display_data"
    }
   ],
   "source": [
    "#Northern Hemisphere - Temperature (F) vs. Latitude\n",
    "yaxis = north_hemisphere_cities['Temp']\n",
    "xaxis = north_hemisphere_cities['lat']\n",
    "linear_regression_plotter(xaxis, yaxis)\n",
    "plt.xlabel('Latitude')\n",
    "plt.ylabel('Max Temperature')\n",
    "plt.title(f'Northern Hemisphere Max Temperature Vs Latitude ({today_date})')\n",
    "plt.savefig(f\"Images/Northern Hemisphere Max Temperature Vs Latitude\")\n",
    "plt.xlim(0,80)\n",
    "plt.show()"
   ]
  },
  {
   "cell_type": "markdown",
   "metadata": {},
   "source": [
    "#### Analysis\n",
    "* There is a strong negative correlation between Max Temperature and the Latitude on the northern hemisphere"
   ]
  },
  {
   "cell_type": "markdown",
   "metadata": {},
   "source": [
    "####  Southern Hemisphere - Max Temp vs. Latitude Linear Regression"
   ]
  },
  {
   "cell_type": "code",
   "execution_count": 89,
   "metadata": {},
   "outputs": [
    {
     "name": "stdout",
     "output_type": "stream",
     "text": [
      "R squared: 0.37910879214628745\n"
     ]
    },
    {
     "data": {
      "image/png": "[encoded data removed]",
      "text/plain": [
       "<Figure size 432x288 with 1 Axes>"
      ]
     },
     "metadata": {
      "needs_background": "light"
     },
     "output_type": "display_data"
    }
   ],
   "source": [
    "#Southern Hemisphere - Temperature (F) vs. Latitude\n",
    "yaxis = south_hemisphere_cities['Temp']\n",
    "xaxis = south_hemisphere_cities['lat']\n",
    "linear_regression_plotter(xaxis, yaxis)\n",
    "plt.xlabel('Latitude')\n",
    "plt.ylabel('Max Temperature')\n",
    "plt.title(f'Southern Hemisphere Max Temperature Vs Latitude ({today_date})')\n",
    "plt.savefig(f\"Images/Southern Hemisphere Max Temperature Vs Latitude\")\n",
    "plt.show()"
   ]
  },
  {
   "cell_type": "markdown",
   "metadata": {},
   "source": [
    "#### Analysis\n",
    "* There is a weak correlation between Max Temperature and the Latitude on the southern hemisphere"
   ]
  },
  {
   "cell_type": "markdown",
   "metadata": {},
   "source": [
    "####  Northern Hemisphere - Humidity (%) vs. Latitude Linear Regression"
   ]
  },
  {
   "cell_type": "code",
   "execution_count": 67,
   "metadata": {},
   "outputs": [
    {
     "name": "stdout",
     "output_type": "stream",
     "text": [
      "R squard: 0.42693821815505417\n"
     ]
    },
    {
     "data": {
      "image/png": "[encoded data removed]",
      "text/plain": [
       "<Figure size 432x288 with 1 Axes>"
      ]
     },
     "metadata": {
      "needs_background": "light"
     },
     "output_type": "display_data"
    }
   ],
   "source": [
    "#Northern Hemisphere - Humidity (%)  vs. Latitude\n",
    "yaxis = north_hemisphere_cities['humidity']\n",
    "xaxis = north_hemisphere_cities['lat']\n",
    "linear_regression_plotter(xaxis, yaxis)\n",
    "plt.xlabel('Latitude')\n",
    "plt.ylabel('Humidity %')\n",
    "plt.title(f'Northern Hemisphere Humidity % Vs Latitude ({today_date})')\n",
    "plt.savefig(f\"Images/Northern Hemisphere Humidity % Vs Latitude\")\n",
    "plt.show()"
   ]
  },
  {
   "cell_type": "markdown",
   "metadata": {},
   "source": [
    "#### Analysis\n",
    "* There is a weak correlation between Humidity and the Latitude on the northern hemisphere."
   ]
  },
  {
   "cell_type": "markdown",
   "metadata": {},
   "source": [
    "####  Southern Hemisphere - Humidity (%) vs. Latitude Linear Regression"
   ]
  },
  {
   "cell_type": "code",
   "execution_count": 69,
   "metadata": {},
   "outputs": [
    {
     "name": "stdout",
     "output_type": "stream",
     "text": [
      "R squard: 0.2767751539154194\n"
     ]
    },
    {
     "data": {
      "image/png": "[encoded data removed]",
      "text/plain": [
       "<Figure size 432x288 with 1 Axes>"
      ]
     },
     "metadata": {
      "needs_background": "light"
     },
     "output_type": "display_data"
    }
   ],
   "source": [
    "#Southern Hemisphere - Humidity (%)  vs. Latitude\n",
    "yaxis = south_hemisphere_cities['humidity']\n",
    "xaxis = south_hemisphere_cities['lat']\n",
    "linear_regression_plotter(xaxis, yaxis)\n",
    "plt.xlabel('Latitude')\n",
    "plt.ylabel('Humidity %')\n",
    "plt.title(f'Southern Hemisphere Humidity % Vs Latitude ({today_date})')\n",
    "plt.savefig(f\"Images/Southern Hemisphere Humidity % Vs Latitude\")\n",
    "plt.show()"
   ]
  },
  {
   "cell_type": "markdown",
   "metadata": {},
   "source": [
    "#### Analysis\n",
    "* There is a very weak correlation between Humidity and the Latitude on the southern hemisphere."
   ]
  },
  {
   "cell_type": "markdown",
   "metadata": {},
   "source": [
    "####  Northern Hemisphere - Cloudiness (%) vs. Latitude Linear Regression"
   ]
  },
  {
   "cell_type": "code",
   "execution_count": 71,
   "metadata": {},
   "outputs": [
    {
     "name": "stdout",
     "output_type": "stream",
     "text": [
      "R squard: 0.26744796603590487\n"
     ]
    },
    {
     "data": {
      "image/png": "[encoded data removed]",
      "text/plain": [
       "<Figure size 432x288 with 1 Axes>"
      ]
     },
     "metadata": {
      "needs_background": "light"
     },
     "output_type": "display_data"
    }
   ],
   "source": [
    "#Northern Hemisphere - Cloudiness (%)   vs. Latitude\n",
    "yaxis = north_hemisphere_cities['cloudiness']\n",
    "xaxis = north_hemisphere_cities['lat']\n",
    "linear_regression_plotter(xaxis, yaxis)\n",
    "plt.xlabel('Latitude')\n",
    "plt.ylabel('Cloudiness %')\n",
    "plt.title(f'Northern Hemisphere Cloudiness % Vs Latitude ({today_date})')\n",
    "plt.savefig(f\"Images/Northern Hemisphere Cloudiness % Vs Latitude\")\n",
    "plt.show()"
   ]
  },
  {
   "cell_type": "markdown",
   "metadata": {},
   "source": [
    "#### Analysis\n",
    "* There is a very weak correlation between Cloudiness (%) and the Latitude on the Northern hemisphere."
   ]
  },
  {
   "cell_type": "markdown",
   "metadata": {},
   "source": [
    "####  Southern Hemisphere - Cloudiness (%) vs. Latitude Linear Regression"
   ]
  },
  {
   "cell_type": "code",
   "execution_count": 73,
   "metadata": {},
   "outputs": [
    {
     "name": "stdout",
     "output_type": "stream",
     "text": [
      "R squard: 0.04379937400695821\n"
     ]
    },
    {
     "data": {
      "image/png": "[encoded data removed]",
      "text/plain": [
       "<Figure size 432x288 with 1 Axes>"
      ]
     },
     "metadata": {
      "needs_background": "light"
     },
     "output_type": "display_data"
    }
   ],
   "source": [
    "#Southern Hemisphere - Cloudiness (%)   vs. Latitude\n",
    "yaxis = south_hemisphere_cities['cloudiness']\n",
    "xaxis = south_hemisphere_cities['lat']\n",
    "linear_regression_plotter(xaxis, yaxis)\n",
    "plt.xlabel('Latitude')\n",
    "plt.ylabel('Cloudiness %')\n",
    "plt.title(f'Southern Hemisphere Cloudiness % Vs Latitude ({today_date})')\n",
    "plt.savefig(f\"Images/Southern Hemisphere Cloudiness % Vs Latitude\")\n",
    "plt.show()"
   ]
  },
  {
   "cell_type": "markdown",
   "metadata": {},
   "source": [
    "#### Analysis\n",
    "* There is a very weak to no correlation between Cloudiness (%) and the Latitude on the Southern hemisphere."
   ]
  },
  {
   "cell_type": "markdown",
   "metadata": {},
   "source": [
    "####  Northern Hemisphere - Wind Speed (mph) vs. Latitude Linear Regression"
   ]
  },
  {
   "cell_type": "code",
   "execution_count": 74,
   "metadata": {},
   "outputs": [
    {
     "name": "stdout",
     "output_type": "stream",
     "text": [
      "R squard: 0.10532747878161362\n"
     ]
    },
    {
     "data": {
      "image/png": "[encoded data removed]",
      "text/plain": [
       "<Figure size 432x288 with 1 Axes>"
      ]
     },
     "metadata": {
      "needs_background": "light"
     },
     "output_type": "display_data"
    }
   ],
   "source": [
    "#Northern Hemisphere - Wind Speed (mph)   vs. Latitude\n",
    "yaxis = north_hemisphere_cities['Wind']\n",
    "xaxis = north_hemisphere_cities['lat']\n",
    "linear_regression_plotter(xaxis, yaxis)\n",
    "plt.xlabel('Latitude')\n",
    "plt.ylabel('Wind Speed (mph)')\n",
    "plt.title(f'Northern Hemisphere Wind Speed (mph) Vs Latitude ({today_date})')\n",
    "plt.savefig(f\"Images/Northern Hemisphere Wind Speed % Vs Latitude\")\n",
    "plt.show()"
   ]
  },
  {
   "cell_type": "markdown",
   "metadata": {},
   "source": [
    "#### Analysis\n",
    "* There is a very weak correlation between Wind Speed and the Latitude on the Northern hemisphere."
   ]
  },
  {
   "cell_type": "markdown",
   "metadata": {},
   "source": [
    "####  Southern Hemisphere - Wind Speed (mph) vs. Latitude Linear Regression"
   ]
  },
  {
   "cell_type": "code",
   "execution_count": 75,
   "metadata": {},
   "outputs": [
    {
     "name": "stdout",
     "output_type": "stream",
     "text": [
      "R squard: -0.11044840248302698\n"
     ]
    },
    {
     "data": {
      "image/png": "[encoded data removed]",
      "text/plain": [
       "<Figure size 432x288 with 1 Axes>"
      ]
     },
     "metadata": {
      "needs_background": "light"
     },
     "output_type": "display_data"
    }
   ],
   "source": [
    "#Southern Hemisphere - Wind Speed (mph)   vs. Latitude\n",
    "yaxis = south_hemisphere_cities['Wind']\n",
    "xaxis = south_hemisphere_cities['lat']\n",
    "linear_regression_plotter(xaxis, yaxis)\n",
    "plt.xlabel('Latitude')\n",
    "plt.ylabel('Wind Speed (mph)')\n",
    "plt.title(f'Southern Hemisphere Wind Speed (mph) Vs Latitude ({today_date})')\n",
    "plt.savefig(f\"Images/Southern Hemisphere Wind Speed % Vs Latitude\")\n",
    "plt.show()"
   ]
  },
  {
   "cell_type": "markdown",
   "metadata": {},
   "source": [
    "#### Analysis\n",
    "*  There is a negative correlation between Wind Speed and the Latitude on the Southern hemisphere."
   ]
  }
 ],
 "metadata": {
  "anaconda-cloud": {},
  "kernel_info": {
   "name": "python3"
  },
  "kernelspec": {
   "display_name": "Python 3",
   "language": "python",
   "name": "python3"
  },
  "language_info": {
   "codemirror_mode": {
    "name": "ipython",
    "version": 3
   },
   "file_extension": ".py",
   "mimetype": "text/x-python",
   "name": "python",
   "nbconvert_exporter": "python",
   "pygments_lexer": "ipython3",
   "version": "3.7.5"
  },
  "latex_envs": {
   "LaTeX_envs_menu_present": true,
   "autoclose": false,
   "autocomplete": true,
   "bibliofile": "biblio.bib",
   "cite_by": "apalike",
   "current_citInitial": 1,
   "eqLabelWithNumbers": true,
   "eqNumInitial": 1,
   "hotkeys": {
    "equation": "Ctrl-E",
    "itemize": "Ctrl-I"
   },
   "labels_anchors": false,
   "latex_user_defs": false,
   "report_style_numbering": false,
   "user_envs_cfg": false
  },
  "nteract": {
   "version": "0.12.3"
  }
 },
 "nbformat": 4,
 "nbformat_minor": 4
}
